{
 "cells": [
  {
   "cell_type": "markdown",
   "id": "45c7837b",
   "metadata": {},
   "source": [
    "# Тема “Вычисления с помощью Numpy”"
   ]
  },
  {
   "cell_type": "markdown",
   "id": "16536ffe",
   "metadata": {},
   "source": [
    "<b>Задание 1</b>\n",
    "Импортируйте библиотеку Numpy и дайте ей псевдоним np.\n",
    "Создайте массив Numpy под названием a размером 5x2, то есть состоящий из 5 строк и 2 столбцов. Первый столбец должен содержать числа 1, 2, 3, 3, 1, а второй - числа 6, 8, 11, 10, 7. Будем считать, что каждый столбец - это признак, а строка - наблюдение. Затем найдите среднее значение по каждому признаку, используя метод mean массива Numpy. Результат запишите в массив mean_a, в нем должно быть 2 элемента.\n"
   ]
  },
  {
   "cell_type": "code",
   "execution_count": 31,
   "id": "f02d1ea5",
   "metadata": {},
   "outputs": [
    {
     "name": "stdout",
     "output_type": "stream",
     "text": [
      "Average array: [2.  8.4]\n"
     ]
    }
   ],
   "source": [
    "import numpy as np\n",
    "a = np.array ([[1,6],[2,8],[3,11],[3,10],[1,7]],dtype=np.float64)\n",
    "mean_a = np.mean(a,axis=0)\n",
    "print(\"Average array: \"+str(mean_a))"
   ]
  },
  {
   "cell_type": "markdown",
   "id": "0aba497c",
   "metadata": {},
   "source": [
    "<b>Задание 2</b>\n",
    "Вычислите массив a_centered, отняв от значений массива “а” средние значения соответствующих признаков, содержащиеся в массиве mean_a. Вычисление должно производиться в одно действие. Получившийся массив должен иметь размер 5x2.\n"
   ]
  },
  {
   "cell_type": "code",
   "execution_count": 32,
   "id": "0a7b2e51",
   "metadata": {},
   "outputs": [
    {
     "name": "stdout",
     "output_type": "stream",
     "text": [
      "Average array:\n",
      " [2.  8.4]\n",
      "Centered array:\n",
      "[[-1.  -2.4]\n",
      " [ 0.  -0.4]\n",
      " [ 1.   2.6]\n",
      " [ 1.   1.6]\n",
      " [-1.  -1.4]]\n"
     ]
    }
   ],
   "source": [
    "import numpy as np\n",
    "a = np.array ([[1,6],[2,8],[3,11],[3,10],[1,7]],dtype=np.float64)\n",
    "mean_a = np.mean(a,axis=0)\n",
    "print(\"Average array:\\n \"+str(mean_a))\n",
    "a_centered = a - mean_a\n",
    "print(\"Centered array:\\n\"+str(a_centered))"
   ]
  },
  {
   "cell_type": "markdown",
   "id": "58342cfc",
   "metadata": {},
   "source": [
    "<b>Задание 3</b>\n",
    "Найдите скалярное произведение столбцов массива a_centered. В результате должна получиться величина a_centered_sp. Затем поделите a_centered_sp на N-1, где N - число наблюдений.\n"
   ]
  },
  {
   "cell_type": "code",
   "execution_count": 33,
   "id": "dc734ea9",
   "metadata": {},
   "outputs": [
    {
     "name": "stdout",
     "output_type": "stream",
     "text": [
      "Average array:\n",
      " [2.  8.4]\n",
      "Centered array:\n",
      "[[-1.  -2.4]\n",
      " [ 0.  -0.4]\n",
      " [ 1.   2.6]\n",
      " [ 1.   1.6]\n",
      " [-1.  -1.4]]\n",
      "Vector 1: [-1.  0.  1.  1. -1.]\n",
      "Vector 2: [-2.4 -0.4  2.6  1.6 -1.4]\n",
      "Centered SP=2.0\n"
     ]
    }
   ],
   "source": [
    "import numpy as np\n",
    "\n",
    "a = np.array ([[1,6],[2,8],[3,11],[3,10],[1,7]],dtype=np.float64)\n",
    "mean_a = np.mean(a,axis=0)\n",
    "print(\"Average array:\\n \"+str(mean_a))\n",
    "\n",
    "a_centered = a - mean_a\n",
    "print(\"Centered array:\\n\"+str(a_centered))\n",
    "\n",
    "vector1 = a_centered.T[0]\n",
    "vector2 = a_centered.T[1]\n",
    "print(\"Vector 1: \"+str(vector1))\n",
    "print(\"Vector 2: \"+str(vector2))\n",
    "a_centered_sp = vector1.dot(vector2)\n",
    "n = vector1.size-1\n",
    "a_centered_sp = a_centered_sp/n\n",
    "print(\"Centered SP=\"+str(a_centered_sp))\n",
    "    "
   ]
  },
  {
   "cell_type": "markdown",
   "id": "41884227",
   "metadata": {},
   "source": [
    "<b>Задание 4**</b>\n",
    "Число, которое мы получили в конце задания 3 является ковариацией двух признаков, содержащихся в массиве “а”. В задании 4 мы делили сумму произведений центрированных признаков на N-1, а не на N, поэтому полученная нами величина является несмещенной оценкой ковариации.\n",
    "Подробнее узнать о ковариации можно здесь: https://studopedia.ru/9_153900_viborochnaya-kovariatsiya-i-viborochnaya-dispersiya.html\n",
    "В этом задании проверьте получившееся число, вычислив ковариацию еще одним способом - с помощью функции np.cov. В качестве аргумента m функция np.cov должна принимать транспонированный массив “a”. В получившейся ковариационной матрице (массив Numpy размером 2x2) искомое значение ковариации будет равно элементу в строке с индексом 0 и столбце с индексом 1.\n"
   ]
  },
  {
   "cell_type": "code",
   "execution_count": 34,
   "id": "5353a45a",
   "metadata": {},
   "outputs": [
    {
     "name": "stdout",
     "output_type": "stream",
     "text": [
      "Numpy covariance:\n",
      " [[1.  2. ]\n",
      " [2.  4.3]]\n"
     ]
    }
   ],
   "source": [
    "import numpy as np\n",
    "\n",
    "a = np.array ([[1,6],[2,8],[3,11],[3,10],[1,7]],dtype=np.float64)\n",
    "c = np.cov(a,rowvar=False,bias=False)\n",
    "\n",
    "assert(c[0][1]==a_centered_sp)\n",
    "print(\"Numpy covariance:\\n \"+str(c))\n"
   ]
  },
  {
   "cell_type": "markdown",
   "id": "df8d772f",
   "metadata": {},
   "source": [
    "# Тема “Работа с данными в Pandas”"
   ]
  },
  {
   "cell_type": "markdown",
   "id": "c808c16e",
   "metadata": {},
   "source": [
    "<b>Задание 1</b>\n",
    "Импортируйте библиотеку Pandas и дайте ей псевдоним pd. Создайте датафрейм authors со столбцами author_id и author_name, в которых соответственно содержатся данные: [1, 2, 3] и ['Тургенев', 'Чехов', 'Островский'].\n",
    "Затем создайте датафрейм book cо столбцами author_id, book_title и price, в которых соответственно содержатся данные:  \n",
    "[1, 1, 1, 2, 2, 3, 3],\n",
    "['Отцы и дети', 'Рудин', 'Дворянское гнездо', 'Толстый и тонкий', 'Дама с собачкой', 'Гроза', 'Таланты и поклонники'],\n",
    "[450, 300, 350, 500, 450, 370, 290]\n"
   ]
  },
  {
   "cell_type": "code",
   "execution_count": 35,
   "id": "603368fb",
   "metadata": {},
   "outputs": [
    {
     "name": "stdout",
     "output_type": "stream",
     "text": [
      "Table of authores:\n",
      "   author_id author_name\n",
      "0          1    Тургенев\n",
      "1          2       Чехов\n",
      "2          3  Островский\n",
      "Table of books:\n",
      "   author_id            book_title  price\n",
      "0          1           Отцы и дети    450\n",
      "1          1                 Рудин    300\n",
      "2          1     Дворянское гнездо    350\n",
      "3          2      Толстый и тонкий    500\n",
      "4          2       Дама с собачкой    450\n",
      "5          3                 Гроза    370\n",
      "6          3  Таланты и поклонники    290\n"
     ]
    }
   ],
   "source": [
    "import pandas as pd\n",
    "\n",
    "author_id_series = pd.Series([1,2,3])\n",
    "author_name_series = pd.Series(['Тургенев', 'Чехов', 'Островский'])\n",
    "authores = pd.DataFrame({'author_id':author_id_series,'author_name':author_name_series})\n",
    "print(\"Table of authores:\\n\"+str(authores))\n",
    "\n",
    "author_id_relations = pd.Series([1, 1, 1, 2, 2, 3, 3])\n",
    "book_title_series = pd.Series(['Отцы и дети', 'Рудин', 'Дворянское гнездо', \n",
    "                        'Толстый и тонкий', 'Дама с собачкой', 'Гроза', 'Таланты и поклонники'])\n",
    "book_price_series = pd.Series([450, 300, 350, 500, 450, 370, 290]);\n",
    "book = pd.DataFrame({'author_id':author_id_relations,'book_title':book_title_series,'price':book_price_series})\n",
    "print(\"Table of books:\\n\"+str(book))\n",
    "\n"
   ]
  },
  {
   "cell_type": "markdown",
   "id": "73782c4c",
   "metadata": {},
   "source": [
    "<b>Задание 2</b>\n",
    "Получите датафрейм authors_price, соединив датафреймы authors и books по полю author_id</br>\n",
    "(used docs: https://pandas.pydata.org/docs/user_guide/merging.html)"
   ]
  },
  {
   "cell_type": "code",
   "execution_count": 36,
   "id": "ff50f84c",
   "metadata": {},
   "outputs": [
    {
     "name": "stdout",
     "output_type": "stream",
     "text": [
      "Author price:\n",
      "   key_0  author_id_x author_name  author_id_y            book_title  price\n",
      "0      1            1    Тургенев            1           Отцы и дети    450\n",
      "1      1            1    Тургенев            1                 Рудин    300\n",
      "2      1            1    Тургенев            1     Дворянское гнездо    350\n",
      "3      2            2       Чехов            2      Толстый и тонкий    500\n",
      "4      2            2       Чехов            2       Дама с собачкой    450\n",
      "5      3            3  Островский            3                 Гроза    370\n",
      "6      3            3  Островский            3  Таланты и поклонники    290\n"
     ]
    }
   ],
   "source": [
    "author_price = pd.merge(left=authores, right=book, how=\"inner\",\n",
    "                        left_on=authores['author_id'],right_on=book['author_id'])\n",
    "print(\"Author price:\\n\"+str(author_price));"
   ]
  },
  {
   "cell_type": "markdown",
   "id": "5cf88d53",
   "metadata": {},
   "source": [
    "<b>Задание 3</b>\n",
    "Создайте датафрейм top5, в котором содержатся строки из authors_price с пятью самыми дорогими книгами.</br>\n",
    "(used docs: https://pandas.pydata.org/docs/reference/api/pandas.DataFrame.sort_values.html)"
   ]
  },
  {
   "cell_type": "code",
   "execution_count": 37,
   "id": "b7b4e19e",
   "metadata": {},
   "outputs": [
    {
     "data": {
      "text/html": [
       "<div>\n",
       "<style scoped>\n",
       "    .dataframe tbody tr th:only-of-type {\n",
       "        vertical-align: middle;\n",
       "    }\n",
       "\n",
       "    .dataframe tbody tr th {\n",
       "        vertical-align: top;\n",
       "    }\n",
       "\n",
       "    .dataframe thead th {\n",
       "        text-align: right;\n",
       "    }\n",
       "</style>\n",
       "<table border=\"1\" class=\"dataframe\">\n",
       "  <thead>\n",
       "    <tr style=\"text-align: right;\">\n",
       "      <th></th>\n",
       "      <th>key_0</th>\n",
       "      <th>author_id_x</th>\n",
       "      <th>author_name</th>\n",
       "      <th>author_id_y</th>\n",
       "      <th>book_title</th>\n",
       "      <th>price</th>\n",
       "    </tr>\n",
       "  </thead>\n",
       "  <tbody>\n",
       "    <tr>\n",
       "      <th>3</th>\n",
       "      <td>2</td>\n",
       "      <td>2</td>\n",
       "      <td>Чехов</td>\n",
       "      <td>2</td>\n",
       "      <td>Толстый и тонкий</td>\n",
       "      <td>500</td>\n",
       "    </tr>\n",
       "    <tr>\n",
       "      <th>0</th>\n",
       "      <td>1</td>\n",
       "      <td>1</td>\n",
       "      <td>Тургенев</td>\n",
       "      <td>1</td>\n",
       "      <td>Отцы и дети</td>\n",
       "      <td>450</td>\n",
       "    </tr>\n",
       "    <tr>\n",
       "      <th>4</th>\n",
       "      <td>2</td>\n",
       "      <td>2</td>\n",
       "      <td>Чехов</td>\n",
       "      <td>2</td>\n",
       "      <td>Дама с собачкой</td>\n",
       "      <td>450</td>\n",
       "    </tr>\n",
       "    <tr>\n",
       "      <th>5</th>\n",
       "      <td>3</td>\n",
       "      <td>3</td>\n",
       "      <td>Островский</td>\n",
       "      <td>3</td>\n",
       "      <td>Гроза</td>\n",
       "      <td>370</td>\n",
       "    </tr>\n",
       "    <tr>\n",
       "      <th>2</th>\n",
       "      <td>1</td>\n",
       "      <td>1</td>\n",
       "      <td>Тургенев</td>\n",
       "      <td>1</td>\n",
       "      <td>Дворянское гнездо</td>\n",
       "      <td>350</td>\n",
       "    </tr>\n",
       "  </tbody>\n",
       "</table>\n",
       "</div>"
      ],
      "text/plain": [
       "   key_0  author_id_x author_name  author_id_y         book_title  price\n",
       "3      2            2       Чехов            2   Толстый и тонкий    500\n",
       "0      1            1    Тургенев            1        Отцы и дети    450\n",
       "4      2            2       Чехов            2    Дама с собачкой    450\n",
       "5      3            3  Островский            3              Гроза    370\n",
       "2      1            1    Тургенев            1  Дворянское гнездо    350"
      ]
     },
     "execution_count": 37,
     "metadata": {},
     "output_type": "execute_result"
    }
   ],
   "source": [
    "top5 = author_price.sort_values(by=['price'],ascending=False).head(5)\n",
    "top5"
   ]
  },
  {
   "cell_type": "markdown",
   "id": "99cccdd2",
   "metadata": {},
   "source": [
    "<b>Задание 4</b>\n",
    "Создайте датафрейм authors_stat на основе информации из authors_price. В датафрейме authors_stat должны быть четыре столбца:\n",
    "author_name, min_price, max_price и mean_price,\n",
    "в которых должны содержаться соответственно имя автора, минимальная, максимальная и средняя цена на книги этого автора.\n"
   ]
  },
  {
   "cell_type": "code",
   "execution_count": 38,
   "id": "6dd95ddf",
   "metadata": {},
   "outputs": [
    {
     "data": {
      "text/html": [
       "<div>\n",
       "<style scoped>\n",
       "    .dataframe tbody tr th:only-of-type {\n",
       "        vertical-align: middle;\n",
       "    }\n",
       "\n",
       "    .dataframe tbody tr th {\n",
       "        vertical-align: top;\n",
       "    }\n",
       "\n",
       "    .dataframe thead th {\n",
       "        text-align: right;\n",
       "    }\n",
       "</style>\n",
       "<table border=\"1\" class=\"dataframe\">\n",
       "  <thead>\n",
       "    <tr style=\"text-align: right;\">\n",
       "      <th></th>\n",
       "      <th>author_name</th>\n",
       "      <th>min_price</th>\n",
       "      <th>max_price</th>\n",
       "      <th>mean_price</th>\n",
       "    </tr>\n",
       "    <tr>\n",
       "      <th>author_id_y</th>\n",
       "      <th></th>\n",
       "      <th></th>\n",
       "      <th></th>\n",
       "      <th></th>\n",
       "    </tr>\n",
       "  </thead>\n",
       "  <tbody>\n",
       "    <tr>\n",
       "      <th>1</th>\n",
       "      <td>[Тургенев]</td>\n",
       "      <td>300</td>\n",
       "      <td>450</td>\n",
       "      <td>366.666667</td>\n",
       "    </tr>\n",
       "    <tr>\n",
       "      <th>2</th>\n",
       "      <td>[Чехов]</td>\n",
       "      <td>450</td>\n",
       "      <td>500</td>\n",
       "      <td>475.000000</td>\n",
       "    </tr>\n",
       "    <tr>\n",
       "      <th>3</th>\n",
       "      <td>[Островский]</td>\n",
       "      <td>290</td>\n",
       "      <td>370</td>\n",
       "      <td>330.000000</td>\n",
       "    </tr>\n",
       "  </tbody>\n",
       "</table>\n",
       "</div>"
      ],
      "text/plain": [
       "              author_name  min_price  max_price  mean_price\n",
       "author_id_y                                                \n",
       "1              [Тургенев]        300        450  366.666667\n",
       "2                 [Чехов]        450        500  475.000000\n",
       "3            [Островский]        290        370  330.000000"
      ]
     },
     "execution_count": 38,
     "metadata": {},
     "output_type": "execute_result"
    }
   ],
   "source": [
    "import pandas as pd\n",
    "import numpy as np\n",
    "authors_stat = pd.DataFrame()\n",
    "auth_function = lambda author : author.key_0\n",
    "\n",
    "# Let's make author series:-------------------\n",
    "author_series = pd.pivot_table(data=author_price,values=\"author_name\",index='author_id_y',aggfunc=np.unique).sort_values(\n",
    "    by=['author_id_y'],ascending=True)['author_name']\n",
    "\n",
    "# Let's make max series:----------------------\n",
    "max_series = pd.pivot_table(data=author_price,values=\"price\",index='author_id_y',aggfunc=np.max).sort_values(\n",
    "    by=['author_id_y'],ascending=True)['price']\n",
    "\n",
    "# Let's make min series:----------------------\n",
    "min_series = pd.pivot_table(data=author_price,values=\"price\",index='author_id_y',aggfunc=np.min).sort_values(\n",
    "    by=['author_id_y'],ascending=True)['price']\n",
    "\n",
    "# Let's make mean series:---------------------\n",
    "mean_series = pd.pivot_table(data=author_price,values=\"price\",index='author_id_y',aggfunc=np.mean).sort_values(\n",
    "    by=['author_id_y'],ascending=True)['price']\n",
    "\n",
    "authors_stat = pd.DataFrame({\n",
    "    'author_name':author_series,\n",
    "    'min_price':min_series,\n",
    "    'max_price':max_series,\n",
    "    'mean_price':mean_series})\n",
    "\n",
    "authors_stat\n"
   ]
  },
  {
   "cell_type": "markdown",
   "id": "33cf265b",
   "metadata": {},
   "source": [
    "<b>Задание 5**</b>\n",
    "Создайте новый столбец в датафрейме authors_price под названием cover, в нем будут располагаться данные о том, какая обложка у данной книги - твердая или мягкая. В этот столбец поместите данные из следующего списка:\n",
    "['твердая', 'мягкая', 'мягкая', 'твердая', 'твердая', 'мягкая', 'мягкая'].\n",
    "Просмотрите документацию по функции pd.pivot_table с помощью вопросительного знака.Для каждого автора посчитайте суммарную стоимость книг в твердой и мягкой обложке. Используйте для этого функцию pd.pivot_table. При этом столбцы должны называться \"твердая\" и \"мягкая\", а индексами должны быть фамилии авторов. Пропущенные значения стоимостей заполните нулями, при необходимости загрузите библиотеку Numpy.\n",
    "Назовите полученный датасет book_info и сохраните его в формат pickle под названием \"book_info.pkl\". Затем загрузите из этого файла датафрейм и назовите его book_info2. Удостоверьтесь, что датафреймы book_info и book_info2 идентичны.\n"
   ]
  },
  {
   "cell_type": "code",
   "execution_count": 39,
   "id": "aa1623c3",
   "metadata": {},
   "outputs": [
    {
     "name": "stdout",
     "output_type": "stream",
     "text": [
      "Author price:\n",
      "   key_0  author_id_x author_name  author_id_y            book_title  price  \\\n",
      "0      1            1    Тургенев            1           Отцы и дети    450   \n",
      "1      1            1    Тургенев            1                 Рудин    300   \n",
      "2      1            1    Тургенев            1     Дворянское гнездо    350   \n",
      "3      2            2       Чехов            2      Толстый и тонкий    500   \n",
      "4      2            2       Чехов            2       Дама с собачкой    450   \n",
      "5      3            3  Островский            3                 Гроза    370   \n",
      "6      3            3  Островский            3  Таланты и поклонники    290   \n",
      "\n",
      "     cover  \n",
      "0  твердая  \n",
      "1   мягкая  \n",
      "2   мягкая  \n",
      "3  твердая  \n",
      "4  твердая  \n",
      "5   мягкая  \n",
      "6   мягкая  \n",
      "\n",
      "Book info:\n",
      "                     price\n",
      "cover   author_name       \n",
      "мягкая  Островский     660\n",
      "        Тургенев       650\n",
      "твердая Тургенев       450\n",
      "        Чехов          950\n",
      "\n",
      "Book info2:\n",
      "                     price\n",
      "cover   author_name       \n",
      "мягкая  Островский     660\n",
      "        Тургенев       650\n",
      "твердая Тургенев       450\n",
      "        Чехов          950\n",
      "\n",
      "Dif result:\n",
      "Empty DataFrame\n",
      "Columns: []\n",
      "Index: []\n"
     ]
    }
   ],
   "source": [
    "# Remaking author price:---------------------------------------\n",
    "author_price = pd.merge(left=authores, right=book, how=\"inner\",\n",
    "                        left_on=authores['author_id'],right_on=book['author_id'])\n",
    "\n",
    "# Adding the cover property:-----------------------------------\n",
    "author_price['cover']=pd.Series(['твердая', 'мягкая', 'мягкая', 'твердая', 'твердая', 'мягкая', 'мягкая'])\n",
    "print(\"Author price:\\n\"+str(author_price));\n",
    "\n",
    "\n",
    "# Making aggregated table:-------------------------------------\n",
    "book_info = pd.pivot_table(data=author_price,values=\"price\",index=['cover','author_name'],aggfunc=np.sum)\n",
    "print(\"\\nBook info:\\n\"+str(book_info));\n",
    "\n",
    "# Saving:------------------------------------------------------\n",
    "book_info.to_pickle('book_info.pkl')\n",
    "book_info2 = pd.read_pickle('book_info.pkl')\n",
    "\n",
    "print(\"\\nBook info2:\\n\"+str(book_info2))\n",
    "print(\"\\nDif result:\\n\"+str(book_info2.compare(book_info)))\n"
   ]
  },
  {
   "cell_type": "code",
   "execution_count": null,
   "id": "2fc3e01a",
   "metadata": {},
   "outputs": [],
   "source": []
  },
  {
   "cell_type": "code",
   "execution_count": null,
   "id": "3644560f",
   "metadata": {},
   "outputs": [],
   "source": []
  }
 ],
 "metadata": {
  "kernelspec": {
   "display_name": "Python 3 (ipykernel)",
   "language": "python",
   "name": "python3"
  },
  "language_info": {
   "codemirror_mode": {
    "name": "ipython",
    "version": 3
   },
   "file_extension": ".py",
   "mimetype": "text/x-python",
   "name": "python",
   "nbconvert_exporter": "python",
   "pygments_lexer": "ipython3",
   "version": "3.9.12"
  }
 },
 "nbformat": 4,
 "nbformat_minor": 5
}
